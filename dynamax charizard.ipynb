{
 "cells": [
  {
   "cell_type": "code",
   "execution_count": 6,
   "metadata": {
    "collapsed": false
   },
   "outputs": [
    {
     "name": "stdout",
     "output_type": "stream",
     "text": [
      "rock\n",
      "computer: rock\n",
      "paper\n",
      "computer: paper\n",
      "scissors\n",
      "computer: paper\n",
      "rock\n",
      "computer: scissors\n",
      "paper\n",
      "computer: rock\n",
      "tiebreak= 2\n",
      "brandonwin= 3\n",
      "compwin= 0\n"
     ]
    }
   ],
   "source": [
    "import random\n",
    "\n",
    "d=0\n",
    "var=['rock','paper','scissors']\n",
    "tiebreak=0\n",
    "compwin=0\n",
    "brandonwin=0\n",
    "while d<5:\n",
    "    x=random.randint(0,2)\n",
    "    comp=var[x]\n",
    "    brandon=input()\n",
    "    print('computer: %s'%comp)\n",
    "    if not(brandon in var):\n",
    "        print('cannot accept')\n",
    "        continue\n",
    "    if comp=='paper'and brandon=='rock':\n",
    "        compwin=compwin+1\n",
    "    if comp=='rock'and brandon=='scissors':\n",
    "        compwin=compwin+1\n",
    "    if comp=='paper' and brandon=='scissors':\n",
    "        brandonwin=brandonwin+1\n",
    "    if comp=='rock'and brandon=='paper':\n",
    "        brandonwin=brandonwin+1\n",
    "    if comp=='scissors'and brandon=='paper':\n",
    "        compwin=compwin+1\n",
    "    if comp=='scissors'and brandon=='rock':\n",
    "        brandonwin=brandonwin+1\n",
    "    if comp=='rock'and brandon=='rock':\n",
    "        tiebreak=tiebreak+1\n",
    "    if comp=='paper'and brandon=='paper':\n",
    "        tiebreak=tiebreak+1\n",
    "    if comp=='scissors'and brandon=='scissors':\n",
    "        tiebreak=tiebreak+1\n",
    "    \n",
    "    d=d+1\n",
    "print('tiebreak=',tiebreak)\n",
    "print('brandonwin=',brandonwin) \n",
    "print('compwin=',compwin)"
   ]
  },
  {
   "cell_type": "code",
   "execution_count": 7,
   "metadata": {
    "collapsed": false
   },
   "outputs": [
    {
     "name": "stdout",
     "output_type": "stream",
     "text": [
      "u-boat\n",
      "computer: battle ship\n",
      "battle ship\n",
      "computer: depth charge\n",
      "depth charge\n",
      "computer: battle ship\n",
      "batleship\n",
      "computer: battle ship\n",
      "u-boat\n",
      "computer: u-boat\n",
      "brandon wins!\n",
      "copyright brandon production inc\n"
     ]
    }
   ],
   "source": [
    "import random\n",
    "\n",
    "d=0\n",
    "var=['u-boat','battle ship','depth charge']\n",
    "tiebreak=0\n",
    "compwin=0\n",
    "brandonwin=0\n",
    "while d<5:\n",
    "    x=random.randint(0,2)\n",
    "    comp=var[x]\n",
    "    brandon=input()\n",
    "    print('computer: %s'%comp)\n",
    "    if comp=='u-boat'and brandon=='battle ship':\n",
    "        compwin=compwin+1\n",
    "    if comp=='depth charge'and brandon=='u-boat':\n",
    "        compwin=compwin+1\n",
    "    if comp=='depth charge' and brandon=='battle ship':\n",
    "        brandonwin=brandonwin+1\n",
    "    if comp=='u-boat'and brandon=='depth charge':\n",
    "        brandonwin=brandonwin+1\n",
    "    if comp=='battle ship'and brandon=='u-boat':\n",
    "        brandonwin=brandonwin+1\n",
    "    if comp=='battle ship'and brandon=='depth carge':\n",
    "        compwin=compwin+1\n",
    "    if comp=='battle ship'and brandon=='battle ship':\n",
    "        tiebreak=tiebreak+1\n",
    "    if comp=='depth charge'and brandon=='depth charge':\n",
    "        tiebreak=tiebreak+1\n",
    "    if comp=='u-boat'and brandon=='u-boat':\n",
    "        tiebreak=tiebreak+1\n",
    "    d=d+1\n",
    "\n",
    "if brandonwin>compwin:\n",
    "    print('brandon wins!')\n",
    "elif brandonwin<compwin:\n",
    "    print('comp wins!')\n",
    "else:\n",
    "    print('oh no its a tie! try again!')   \n",
    "    print('tiebreak=',tiebreak)\n",
    "    print('brandonwin=',brandonwin) \n",
    "    print('compwin=',compwin)\n",
    "print('copyright brandon production inc')\n",
    "      "
   ]
  },
  {
   "cell_type": "code",
   "execution_count": 8,
   "metadata": {
    "collapsed": false
   },
   "outputs": [
    {
     "name": "stdout",
     "output_type": "stream",
     "text": [
      "ghost game\n",
      "three doors ahead...\n",
      "a ghost behind one\n",
      "which door do you open?\n",
      "1,2,or 3?1\n",
      "no ghost!\n",
      "you scored 1\n",
      "three doors ahead...\n",
      "a ghost behind one\n",
      "which door do you open?\n",
      "1,2,or 3?2\n",
      "no ghost!\n",
      "you scored 2\n",
      "three doors ahead...\n",
      "a ghost behind one\n",
      "which door do you open?\n",
      "1,2,or 3?1\n",
      "no ghost!\n",
      "you scored 3\n",
      "three doors ahead...\n",
      "a ghost behind one\n",
      "which door do you open?\n",
      "1,2,or 3?2\n",
      "no ghost!\n",
      "you scored 4\n",
      "three doors ahead...\n",
      "a ghost behind one\n",
      "which door do you open?\n",
      "1,2,or 3?3\n",
      "GHOST!\n",
      "run away!\n",
      "you scored 4\n"
     ]
    }
   ],
   "source": [
    "# ghost game\n",
    "from random import randint\n",
    "print('ghost game')\n",
    "feeling_brave=True\n",
    "score=0\n",
    "while feeling_brave:\n",
    "    ghost_door=randint(1,3)\n",
    "    print('three doors ahead...')\n",
    "    print('a ghost behind one')\n",
    "    print('which door do you open?')\n",
    "    door=input('1,2,or 3?')\n",
    "    door_num=int(door)\n",
    "    if door_num== ghost_door:\n",
    "        print('GHOST!')\n",
    "        print('run away!')\n",
    "        feeling_brave=False\n",
    "    else:\n",
    "        print('no ghost!')\n",
    "        score=score+1\n",
    "    print('you scored',score)\n",
    "    "
   ]
  },
  {
   "cell_type": "code",
   "execution_count": 9,
   "metadata": {
    "collapsed": false
   },
   "outputs": [
    {
     "name": "stdout",
     "output_type": "stream",
     "text": [
      "no :)\n"
     ]
    }
   ],
   "source": [
    "var=['rock','paper','scissors']\n",
    "x='rOck'\n",
    "if x in var:\n",
    "    print('x is inside')\n",
    "if not(x in var):\n",
    "    print('no :)')"
   ]
  },
  {
   "cell_type": "code",
   "execution_count": 10,
   "metadata": {
    "collapsed": false
   },
   "outputs": [
    {
     "name": "stdout",
     "output_type": "stream",
     "text": [
      "before: ['bad', 'good', 'jelly beans', 'jelly']\n",
      "['bad', 'good', 'jelly beans']\n",
      "['bad', 'good']\n",
      "after: ['bad']\n",
      "jelly\n",
      "jelly beans\n",
      "good\n"
     ]
    },
    {
     "data": {
      "text/plain": [
       "1"
      ]
     },
     "execution_count": 10,
     "metadata": {},
     "output_type": "execute_result"
    }
   ],
   "source": [
    "\n",
    "x=[]\n",
    "x.append('bad')\n",
    "x.append('good')\n",
    "x.append('jelly beans')\n",
    "x.append('jelly')\n",
    "print('before:',x)\n",
    "y=x.pop()\n",
    "print(x)\n",
    "y1=x.pop()\n",
    "print(x)\n",
    "y2=x.pop()\n",
    "print('after:',x)\n",
    "print(y)\n",
    "print(y1)\n",
    "print(y2)\n",
    "len(x)"
   ]
  },
  {
   "cell_type": "code",
   "execution_count": 3,
   "metadata": {
    "collapsed": false
   },
   "outputs": [
    {
     "data": {
      "text/plain": [
       "3000"
      ]
     },
     "execution_count": 3,
     "metadata": {},
     "output_type": "execute_result"
    }
   ],
   "source": [
    "len(a)"
   ]
  },
  {
   "cell_type": "code",
   "execution_count": 9,
   "metadata": {
    "collapsed": false
   },
   "outputs": [],
   "source": [
    "fpath='/Users/calleycao/workspace/common_3K_words.txt'\n",
    "fh=open(fpath,'r')\n",
    "a=fh.readlines()\n",
    "for i in range(0,3000):\n",
    "    a[i]=a[i].strip()\n",
    "    "
   ]
  },
  {
   "cell_type": "code",
   "execution_count": 10,
   "metadata": {
    "collapsed": true
   },
   "outputs": [],
   "source": [
    "import random\n",
    "from random import randint\n",
    "y=[]\n",
    "c=0"
   ]
  },
  {
   "cell_type": "code",
   "execution_count": 11,
   "metadata": {
    "collapsed": false,
    "scrolled": true
   },
   "outputs": [
    {
     "name": "stdout",
     "output_type": "stream",
     "text": [
      "['_', '_', '_', '_', '_']\n",
      "hint\n",
      "hint:\n",
      "t\n",
      "['_', '_', '_', '_', '_']\n",
      "t\n",
      "['_', '_', '_', '_', 't']\n",
      "vowel\n",
      "vowel:\n",
      "['a']\n",
      "['_', '_', '_', '_', 't']\n",
      "a\n",
      "['_', '_', 'a', '_', 't']\n",
      "hint\n",
      "hint:\n",
      "r\n",
      "['_', '_', 'a', '_', 't']\n",
      "r\n",
      "['_', '_', 'a', 'r', 't']\n",
      "hint\n",
      "hint:\n",
      "h\n",
      "['_', '_', 'a', 'r', 't']\n",
      "h\n",
      "['_', 'h', 'a', 'r', 't']\n",
      "s\n",
      "['_', 'h', 'a', 'r', 't']\n",
      "hint\n",
      "hint:\n",
      "c\n",
      "['_', 'h', 'a', 'r', 't']\n",
      "c\n",
      "['c', 'h', 'a', 'r', 't']\n"
     ]
    }
   ],
   "source": [
    "f=random.randint(0,3000)\n",
    "h=['vowel']\n",
    "g=['a','e','i','o','u','y']\n",
    "u=0\n",
    "t=a[f]\n",
    "e=len(t)\n",
    "x=['_']*e\n",
    "hints=0\n",
    "while u<5:\n",
    "        if e<5:\n",
    "            break\n",
    "        print(x)\n",
    "        s=input()\n",
    "        if s=='vowel':\n",
    "            print('vowel:')\n",
    "            y=[]\n",
    "            for c in range(e):\n",
    "                if (t[c] in g)and(t[o] not in y)and(t[c]not in x):\n",
    "                    y.append(t[c])\n",
    "            print(y)\n",
    "        if s=='hint':\n",
    "            print('hint:')\n",
    "            o=random.randint(0,e-1)\n",
    "            while t[o] in x:\n",
    "                o=random.randint(0,e-1)\n",
    "            print(t[o])   \n",
    "        else:\n",
    "            if s in t:   \n",
    "                for i in range(e):\n",
    "                     if s==t[i]:\n",
    "                        x[i]=s\n",
    "            else:\n",
    "                u=u+1\n",
    "        if '_'not in x:\n",
    "            break\n",
    "print(x)"
   ]
  },
  {
   "cell_type": "code",
   "execution_count": 12,
   "metadata": {
    "collapsed": false
   },
   "outputs": [
    {
     "name": "stdout",
     "output_type": "stream",
     "text": [
      "chart\n"
     ]
    }
   ],
   "source": [
    "print(t)"
   ]
  },
  {
   "cell_type": "code",
   "execution_count": 10,
   "metadata": {
    "collapsed": false,
    "scrolled": true
   },
   "outputs": [
    {
     "data": {
      "text/plain": [
       "1"
      ]
     },
     "execution_count": 10,
     "metadata": {},
     "output_type": "execute_result"
    }
   ],
   "source": [
    "a[f].index('e')"
   ]
  },
  {
   "cell_type": "code",
   "execution_count": 15,
   "metadata": {
    "collapsed": false
   },
   "outputs": [
    {
     "name": "stdout",
     "output_type": "stream",
     "text": [
      "hunter\n"
     ]
    }
   ],
   "source": [
    "print(t)"
   ]
  },
  {
   "cell_type": "code",
   "execution_count": null,
   "metadata": {
    "collapsed": true
   },
   "outputs": [],
   "source": []
  },
  {
   "cell_type": "code",
   "execution_count": null,
   "metadata": {
    "collapsed": true
   },
   "outputs": [],
   "source": []
  },
  {
   "cell_type": "code",
   "execution_count": null,
   "metadata": {
    "collapsed": true
   },
   "outputs": [],
   "source": []
  },
  {
   "cell_type": "code",
   "execution_count": null,
   "metadata": {
    "collapsed": true
   },
   "outputs": [],
   "source": []
  },
  {
   "cell_type": "code",
   "execution_count": null,
   "metadata": {
    "collapsed": false
   },
   "outputs": [],
   "source": []
  },
  {
   "cell_type": "code",
   "execution_count": null,
   "metadata": {
    "collapsed": false
   },
   "outputs": [],
   "source": []
  },
  {
   "cell_type": "code",
   "execution_count": null,
   "metadata": {
    "collapsed": false
   },
   "outputs": [],
   "source": []
  },
  {
   "cell_type": "code",
   "execution_count": null,
   "metadata": {
    "collapsed": false
   },
   "outputs": [],
   "source": []
  },
  {
   "cell_type": "code",
   "execution_count": null,
   "metadata": {
    "collapsed": true
   },
   "outputs": [],
   "source": []
  },
  {
   "cell_type": "code",
   "execution_count": null,
   "metadata": {
    "collapsed": true
   },
   "outputs": [],
   "source": []
  },
  {
   "cell_type": "code",
   "execution_count": null,
   "metadata": {
    "collapsed": true
   },
   "outputs": [],
   "source": []
  },
  {
   "cell_type": "code",
   "execution_count": null,
   "metadata": {
    "collapsed": true
   },
   "outputs": [],
   "source": []
  },
  {
   "cell_type": "code",
   "execution_count": null,
   "metadata": {
    "collapsed": true
   },
   "outputs": [],
   "source": []
  }
 ],
 "metadata": {
  "kernelspec": {
   "display_name": "Python 3",
   "language": "python",
   "name": "python3"
  },
  "language_info": {
   "codemirror_mode": {
    "name": "ipython",
    "version": 3
   },
   "file_extension": ".py",
   "mimetype": "text/x-python",
   "name": "python",
   "nbconvert_exporter": "python",
   "pygments_lexer": "ipython3",
   "version": "3.5.1"
  }
 },
 "nbformat": 4,
 "nbformat_minor": 0
}
